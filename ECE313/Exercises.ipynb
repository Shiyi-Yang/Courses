{
 "cells": [
  {
   "cell_type": "code",
   "execution_count": 1,
   "metadata": {},
   "outputs": [
    {
     "name": "stdout",
     "output_type": "stream",
     "text": [
      "Populating the interactive namespace from numpy and matplotlib\n"
     ]
    }
   ],
   "source": [
    "%pylab inline"
   ]
  },
  {
   "cell_type": "markdown",
   "metadata": {},
   "source": [
    "#### 1.10 \n",
    "Suppose five cards are drawn from a standard 52 card deck of playing cards.\n",
    "\n",
    "(a) TWO PAIR is the event that two cards both have one number, two other cards both have some other number, and the fifth card has a unique number. Find P(TWO PAIR).\n",
    "\n",
    "(b) THREE OF A KIND is th event that three of the crads have the same number, and the other cards have different number from each other and the one the three cards have. Find P(THREE OF A KIND).\n",
    "\n",
    "(c) FOUR OF A KIND is the event that four of the five cards have the same number, find P(FOUR OF A KIND).\n",
    "\n",
    "(d) Find P(FULL HOUSE) and P(STRAIGHT).\n"
   ]
  },
  {
   "cell_type": "markdown",
   "metadata": {},
   "source": [
    "#### Solution:\n",
    "(a)\n",
    "\n",
    "\\begin{equation}\n",
    "P(\\text{TWO PAIR}) = \\frac{13\\times 12/2\\times {4\\choose 2}\\times {4\\choose 2}\\times 11\\times {4\\choose 1}}{52\\choose 5}\\approx 0.0475\n",
    "\\end{equation}\n",
    "\n",
    "(b)\n",
    "\\begin{equation}\n",
    "P(\\text{THREE OF A KIND}) = \\frac{13\\times {4\\choose 3}\\times 12 /2\\times{4\\choose 1}\\times 11\\times{4\\choose 1}}{52\\choose 5}\\approx 0.021\n",
    "\\end{equation}\n",
    "(c)\n",
    "\\begin{equation}\n",
    "P(\\text{FOUR OF A KIND}) = \\frac{13\\times {4\\choose 4}\\times 12\\times{4\\choose 1}}{52\\choose 5}\\approx 0.00024\n",
    "\\end{equation}\n",
    "\n",
    "(d)\n",
    "\\begin{equation}\n",
    "P(\\text{FULL HOUSE}) = \\frac{13\\times {4\\choose 3}\\times 12\\times {4\\choose 2}}{52\\choose 5}\\approx 0.00144\n",
    "\\end{equation}\n",
    "\n",
    "\\begin{equation}\n",
    "P(\\text{STRAIGHT})=\\frac{10\\times 4^5}{52\\choose 5}\\approx 0.00394\n",
    "\\end{equation}"
   ]
  },
  {
   "cell_type": "markdown",
   "metadata": {},
   "source": [
    "#### 2.4\n",
    "A bag contains n pairs of shoes in distinct styles and size. You pick two shoes at random from the bag (without replacement).\n",
    "\n",
    "(a) What is the probability that you get a pair of shoes.\n",
    "\n",
    "(b) What is the probability of getting one left shoe and one right shoe.\n",
    "\n",
    "Suppose now that $n\\geq 2$, and that you choose 3 shoes at random from the bag.\n",
    "\n",
    "(c) What is the probability that you have a pair of shoes among the three that you have picked.\n",
    "\n",
    "(d) What is hte probability that you pikced at least one left shoe and at least one right shoe."
   ]
  },
  {
   "cell_type": "markdown",
   "metadata": {},
   "source": [
    "#### Solution:\n",
    "\n",
    "(a) \n",
    "\\begin{equation}\n",
    "P = \\frac{n}{2n\\choose 2}\n",
    "\\end{equation}\n",
    "\n",
    "(b)\n",
    "\\begin{equation}\n",
    "P =\\frac{n^2}{2n\\choose 2}\n",
    "\\end{equation}\n",
    "\n",
    "(c)\n",
    "\\begin{equation}\n",
    "P =\\frac{n\\times(2n-2)}{2n\\choose 3}\n",
    "\\end{equation}\n",
    "\n",
    "(d)\n",
    "\\begin{equation}\n",
    "P =\\frac{2n\\times{n\\choose2}}{2n\\choose 3}\n",
    "\\end{equation}"
   ]
  },
  {
   "cell_type": "markdown",
   "metadata": {},
   "source": [
    "#### 2.8\n",
    "\n",
    "A reseller reserves and prepays for L rooms at a luxury hotel for a special event, at a price of $a$ dollars per room, and the reseller sells the rooms for $b$ dollars per room, for some known, fixed values $a$ and $b$ with $0 < a ≤ b$. Letting $U$ denote the number of potential buyers, the actual number of buyers is $\\min\\{U, L\\}$ and the profit of the reseller is $b \\min\\{U, L\\} − aL$. The reseller must declare L before observing $U$, but when L is selected the reseller assumes $U$ takes on the possible values $1, 2, \\cdots , M$, each with probability $\\frac{1}{M}$ for some known $M \\geq 1$.\n",
    "\n",
    "(a) Express the expected profit of the reseller in terms of $M$, $L$, $a$, and $b$. Simplify your answer as much as possible. For simplicity, without loss of generality, assume $0 \\leq L \\leq M$. \n",
    "\\\n",
    "(Hint: $1 + \\cdots + L = \\frac{L(L+1)}{2}$. Your answer should be valid whenever $0 \\leq L \\leq M$; for $L = 3$ and $M = 5$ it should reduce to $E[\\text{profit}] = \\frac{12b}{5} − 3a$.)\n",
    "\n",
    "(b) Determine the value of $L$ as a function of $a$, $b$ and $M$ that maximizes the expected profit."
   ]
  },
  {
   "cell_type": "markdown",
   "metadata": {},
   "source": [
    "#### Solution:\n",
    "\n",
    "(a)\n",
    "\n",
    "\\begin{align}\n",
    "E = E[b\\min\\{U,L\\}-aL]=bE[\\min\\{U,L\\}]-aL\n",
    "\\end{align}\n",
    "Note that\n",
    "\\begin{align}\n",
    "E[U] = \\frac{1}{M}\\sum_{k=1}^Mk\n",
    "\\end{align}\n",
    "Sicnce we assume $0\\leq L\\leq M$,\n",
    "\\begin{equation}\n",
    "E[\\min\\{U,L\\}]=\\frac{1}{M}\\left(\\sum_{u=1}^L u + \\sum_{u=L+1}^M L\\right)=\\frac{1}{M}\\left(\\frac{L(L+1)}{2}+(M-L)L\\right)\n",
    "\\end{equation}\n",
    "Therefore\n",
    "\\begin{equation}\n",
    "E[\\text{profit}] = \\frac{b}{M}\\left(\\frac{L(L+1)}{2}+(M-L)L\\right)-aL\n",
    "\\end{equation}\n",
    "\n",
    "(b) Setting $\\frac{d}{dL}E=0$, we have\n",
    "\\begin{align}\n",
    "\\frac{d}{dL}E&=0\\\\\n",
    "L&=\\frac{1}{2}+\\frac{b-a}{a}M\n",
    "\\end{align}"
   ]
  },
  {
   "cell_type": "markdown",
   "metadata": {},
   "source": [
    "#### 2.10\n",
    "Suppose Alice and Bob are among seven people on a debate team. Suppose four of the team members are selected to travel to a debate, with all sets of four having equal probability. Let $A$ be the event that Alice is among the four selected, and $B$ be the event Bob is among the\n",
    "four selected. Find the probabilities indicated.\n",
    "\n",
    "(a) $P(A)$\n",
    "\n",
    "(b) $P(A|B)$\n",
    "\n",
    "(c) $P(A\\cup B)$"
   ]
  },
  {
   "cell_type": "markdown",
   "metadata": {},
   "source": [
    "#### Solution:\n",
    "\n",
    "(a)\n",
    "\\begin{equation}\n",
    "P = \\frac{6\\choose 3}{7\\choose 4}=\\frac{4}{7}\n",
    "\\end{equation}\n",
    "\n",
    "(b)\n",
    "\\begin{equation}\n",
    "P = \\frac{5\\choose 2}{6\\choose 3}=\\frac{1}{2}\n",
    "\\end{equation}\n",
    "(c)\n",
    "\\begin{equation}\n",
    "P = 2\\times \\frac{6\\choose 3}{7\\choose 4}-\\frac{5\\choose 2}{7\\choose 4}=\\frac{6}{7}\n",
    "\\end{equation}"
   ]
  }
 ],
 "metadata": {
  "kernelspec": {
   "display_name": "py3.8",
   "language": "python",
   "name": "py3.8"
  },
  "language_info": {
   "codemirror_mode": {
    "name": "ipython",
    "version": 3
   },
   "file_extension": ".py",
   "mimetype": "text/x-python",
   "name": "python",
   "nbconvert_exporter": "python",
   "pygments_lexer": "ipython3",
   "version": "3.8.10"
  }
 },
 "nbformat": 4,
 "nbformat_minor": 4
}
