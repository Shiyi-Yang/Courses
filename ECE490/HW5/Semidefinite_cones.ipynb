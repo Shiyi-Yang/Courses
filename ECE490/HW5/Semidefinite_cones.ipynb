{
 "cells": [
  {
   "cell_type": "markdown",
   "id": "elegant-connecticut",
   "metadata": {},
   "source": [
    "# Visualizing semidefinite cones #"
   ]
  },
  {
   "cell_type": "markdown",
   "id": "ecological-freeware",
   "metadata": {},
   "source": [
    "Running this notebook will require you to install the package \"mayavi\". For this to work on Jupyter notebooks, there are additional instructions, e.g., see https://docs.enthought.com/mayavi/mayavi/tips.html\n",
    "\n",
    "Other packages that may be useful are \"pyqt5\" and \"vtk\". "
   ]
  },
  {
   "cell_type": "code",
   "execution_count": 1,
   "id": "polar-hands",
   "metadata": {},
   "outputs": [],
   "source": [
    "import numpy as np\n",
    "from mayavi import mlab\n",
    "%gui qt"
   ]
  },
  {
   "cell_type": "markdown",
   "id": "threaded-jordan",
   "metadata": {},
   "source": [
    "Consider the set of $2\\times 2$ positive semidefinite matrices, given by \n",
    "$$ W = \\begin{pmatrix} x & z \\\\ z & y \\end{pmatrix}.$$\n",
    "Let us visualize $(x, y, z) \\in \\mathbb{R}^3$ for which $W \\succeq 0$. This set is described by\n",
    "$$ x \\geq 0, \\ y \\geq 0, \\ z^2 \\leq x y.$$"
   ]
  },
  {
   "cell_type": "code",
   "execution_count": 12,
   "id": "greenhouse-chorus",
   "metadata": {},
   "outputs": [
    {
     "data": {
      "text/plain": [
       "<mayavi.modules.axes.Axes at 0x7f8abe1bb860>"
      ]
     },
     "execution_count": 12,
     "metadata": {},
     "output_type": "execute_result"
    }
   ],
   "source": [
    "x, y, z = np.mgrid[0:1:50j, 0:1:50j, -1:1:50j]\n",
    "\n",
    "values = (x*y - z**2)\n",
    "mlab.contour3d(x, y, z, values, contours=[0])\n",
    "mlab.axes()"
   ]
  },
  {
   "cell_type": "markdown",
   "id": "broken-luther",
   "metadata": {},
   "source": [
    "Consider the set of positive semidefinite matrices $W \\in \\mathbb{R}^{3 \\times 3}$ that have ones in their diagonal elements, i.e., \n",
    "$$ W = \\begin{pmatrix}1 & x & y \\\\ x & 1 & z \\\\ y & z & 1 \\end{pmatrix}.$$\n",
    "Let us visualize the set of $(x, y, z) \\in \\mathbb{R}^{3 \\times 3}$ for which $W \\succeq 0$. Notice that determinant constraints on the $2 \\times 2$ submatrices yields\n",
    "$$(x, y, z) \\in [-1, 1]^3.$$\n",
    "The last condition comes from imposing determinant of $W$ to be positive. The boundary is given by \n",
    "$$\\det W = 0 \\iff x^2 + y^2 + z^2 - 2 x y z = 1.$$"
   ]
  },
  {
   "cell_type": "code",
   "execution_count": 11,
   "id": "adjacent-aberdeen",
   "metadata": {},
   "outputs": [
    {
     "data": {
      "text/plain": [
       "<mayavi.modules.axes.Axes at 0x7f8abd633d60>"
      ]
     },
     "execution_count": 11,
     "metadata": {},
     "output_type": "execute_result"
    }
   ],
   "source": [
    "x, y, z = np.mgrid[-1:1:50j, -1:1:50j, -1:1:50j]\n",
    "\n",
    "values = (-x**2 + 2*x*y*z - y**2 - z**2 + 1)\n",
    "mlab.contour3d(x, y, z, values, contours=[0])\n",
    "mlab.axes()"
   ]
  },
  {
   "cell_type": "code",
   "execution_count": null,
   "id": "growing-clarity",
   "metadata": {},
   "outputs": [],
   "source": []
  }
 ],
 "metadata": {
  "kernelspec": {
   "display_name": "Python 3",
   "language": "python",
   "name": "python3"
  },
  "language_info": {
   "codemirror_mode": {
    "name": "ipython",
    "version": 3
   },
   "file_extension": ".py",
   "mimetype": "text/x-python",
   "name": "python",
   "nbconvert_exporter": "python",
   "pygments_lexer": "ipython3",
   "version": "3.8.5"
  }
 },
 "nbformat": 4,
 "nbformat_minor": 5
}
