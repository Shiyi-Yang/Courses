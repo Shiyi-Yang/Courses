{
 "cells": [
  {
   "cell_type": "code",
   "execution_count": 2,
   "id": "910aad6f",
   "metadata": {},
   "outputs": [],
   "source": [
    "import cvxpy as cp\n",
    "import numpy as np\n",
    "import matplotlib.pyplot as plt"
   ]
  },
  {
   "cell_type": "markdown",
   "id": "312c4d2f",
   "metadata": {},
   "source": [
    "Let us solve the linear program given by\n",
    "$$ \\text{minimize} \\ \\ c^T x, \\ \\text{subject to   } A x \\leq b, $$\n",
    "where the data is given by\n",
    "$$ c = \\begin{pmatrix} 1 \\\\ 1 \\end{pmatrix}, \\quad A = \\begin{pmatrix} 0 & 1 \\\\ 5 & -2 \\\\ -1 & -3 \\\\ -4 & -2 \\end{pmatrix}, \\quad  b = \\begin{pmatrix} 7 \\\\ 36 \\\\ -14 \\\\ -26 \\end{pmatrix}. $$\n",
    "\n",
    "You can check that the vertices are $$V={(3,7),(10,7),(8,2),(5,3)}.$$\n",
    "\n",
    "This example is adapted from Stephane Caron's website."
   ]
  },
  {
   "cell_type": "code",
   "execution_count": 4,
   "id": "1fac8be9",
   "metadata": {},
   "outputs": [
    {
     "data": {
      "image/png": "[encoded data removed]",
      "text/plain": [
       "<Figure size 432x288 with 1 Axes>"
      ]
     },
     "metadata": {
      "needs_background": "light"
     },
     "output_type": "display_data"
    }
   ],
   "source": [
    "#coord = [[3,7], [10,7], [8,2], [5,3], [3,7]]\n",
    "coord = [[9/5.,-2/5.], [-5,3], [-3/4.,29/4.],[9/5.,-2/5.]]\n",
    "xs, ys = zip(*coord)\n",
    "\n",
    "plt.figure()\n",
    "plt.plot(xs,ys) \n",
    "plt.show()"
   ]
  },
  {
   "cell_type": "code",
   "execution_count": 5,
   "id": "4fa0228a",
   "metadata": {},
   "outputs": [
    {
     "name": "stdout",
     "output_type": "stream",
     "text": [
      "[[-1 -2]\n",
      " [ 3  1]\n",
      " [-1  1]]\n",
      "Optimal value:  -1.999999998962521\n",
      "A solution: \n",
      "[[-5.]\n",
      " [ 3.]]\n"
     ]
    }
   ],
   "source": [
    "#c = np.array(np.mat('1;1'))\n",
    "#A = np.array(np.mat('0,1;5,-2;-1,-3;-4,-2'))\n",
    "#b = np.array(np.mat('7;36;-14;-26'))\n",
    "c = np.array(np.mat('1;1'))\n",
    "A = np.array(np.mat('-1,-2;3,1;-1,1'))\n",
    "b = np.array(np.mat('-1;5;8'))\n",
    "print(A)\n",
    "x = cp.Variable(shape=(2,1))\n",
    "prob = cp.Problem(cp.Minimize(c.T@x),\n",
    "                 [A @ x <= b])\n",
    "prob.solve()\n",
    "\n",
    "# Print result.\n",
    "print(\"Optimal value: \", prob.value)\n",
    "print(\"A solution: \")\n",
    "print(x.value)"
   ]
  },
  {
   "cell_type": "code",
   "execution_count": null,
   "id": "8f27d692",
   "metadata": {},
   "outputs": [],
   "source": []
  }
 ],
 "metadata": {
  "kernelspec": {
   "display_name": "Python 3 (ipykernel)",
   "language": "python",
   "name": "python3"
  },
  "language_info": {
   "codemirror_mode": {
    "name": "ipython",
    "version": 3
   },
   "file_extension": ".py",
   "mimetype": "text/x-python",
   "name": "python",
   "nbconvert_exporter": "python",
   "pygments_lexer": "ipython3",
   "version": "3.8.10"
  }
 },
 "nbformat": 4,
 "nbformat_minor": 5
}
