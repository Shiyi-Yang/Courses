{
 "cells": [
  {
   "cell_type": "markdown",
   "metadata": {},
   "source": [
    "Now, you will use the python package to solve a large system of equations which includes capacitors and inductors.\n",
    "Consider the circuit below:\n",
    "<img src=\"circuit.png\" alt=\"drawing\" width=\"400\"/>\n",
    "\n",
    "$V_1$ can be determined directly from the circuit, $$V_1=2\\text{V}.$$\n",
    "To obtain $V_2, V_3, V_4$ and $V_5$, we could set up a number of KVL equations.\n",
    "\n",
    "To get $V_2$,\n",
    "$$\n",
    "\\frac{V_2-V_1}{j}+\\frac{V_2}{1}+j=0\n",
    "$$\n",
    "To get $V_3$,\n",
    "$$\n",
    "\\frac{V_3}{2j}+\\frac{V_3-V_4}{-j}-j=0\n",
    "$$\n",
    "To get $V_4$,\n",
    "$$\n",
    "\\frac{V_4-V_3}{-j}+\\frac{V_4}{1}+\\frac{V_4-V_5}{1}=0\n",
    "$$\n",
    "To get $V_5$,\n",
    "$$\n",
    "\\frac{V_5-V_1}{2}+\\frac{V_5-V_4}{1}+\\frac{V_5}{-j}=0\n",
    "$$\n",
    "\n",
    "\n",
    "Rearranging the equations gives:\n",
    "$$\n",
    "\\begin{align}\n",
    "\\frac{-1}{j}V_1+(\\frac{1}{j}+1)V_2&=-j\\\\\n",
    "\\frac{-1}{2j}V_3+\\frac{1}{j}V_4&=j\\\\\n",
    "\\frac{1}{j}V_3+(2-\\frac{1}{j})V_4-V_5&=0\\\\\n",
    "\\frac{1}{2}V_1+V_4+(\\frac{1}{j}-\\frac{3}{2})V_5&=0\n",
    "\\end{align}\n",
    "$$\n",
    "Combining $V_1=2$, we have\n",
    "\n",
    "$$\n",
    "\\begin{equation}\n",
    "\\begin{bmatrix}\n",
    "1 & 0 & 0 & 0 &0\\\\\n",
    "\\frac{-1}{j} & \\frac{1}{j}+1 & 0 & 0 & 0\\\\\n",
    "0 & 0 & \\frac{-1}{2j} & \\frac{1}{j} & 0\\\\\n",
    "0 &0 &\\frac{1}{j}&(2-\\frac{1}{j})&-1 \\\\\n",
    "\\frac{1}{2} & 0 & 0 &1 &\\frac{1}{j}-\\frac{3}{2}\n",
    "\\end{bmatrix}\n",
    "\\begin{bmatrix}\n",
    "V_1\\\\V_2\\\\V_3\\\\V_4\\\\V_5\n",
    "\\end{bmatrix}=\n",
    "\\begin{bmatrix}\n",
    "2\\\\-j\\\\j\\\\0\\\\0\n",
    "\\end{bmatrix}\n",
    "\\end{equation}\n",
    "$$\n",
    "\n",
    "\n",
    "\n",
    "\n",
    "To solve the equations, we could use np.linalg.solve function to get the voltages."
   ]
  },
  {
   "cell_type": "code",
   "execution_count": 2,
   "metadata": {},
   "outputs": [],
   "source": [
    "import numpy as np  # import numpy library\n",
    "import numpy.linalg as la"
   ]
  },
  {
   "cell_type": "code",
   "execution_count": 7,
   "metadata": {},
   "outputs": [
    {
     "data": {
      "text/plain": [
       "((5, 5), 6)"
      ]
     },
     "execution_count": 7,
     "metadata": {},
     "output_type": "execute_result"
    }
   ],
   "source": [
    "A.shape,len(b)"
   ]
  },
  {
   "cell_type": "code",
   "execution_count": 21,
   "metadata": {},
   "outputs": [
    {
     "name": "stdout",
     "output_type": "stream",
     "text": [
      "V1= (2+0j)\n",
      "V2= (1.5-1.5j)\n",
      "V3= (1.6756756756756759+2.0540540540540544j)\n",
      "V4= (-0.16216216216216217+1.0270270270270272j)\n",
      "V5= (0.7027027027027027+0.21621621621621623j)\n"
     ]
    }
   ],
   "source": [
    "A = np.array([[1,0,0,0,0],[-1/1j,1/1j+1,0,0,0],[0,0,-1/2j,1/1j,0],[0,0,1/1j,2-1/1j,-1],[1/2,0,0,1,1/1j-3/2]])\n",
    "b = np.array([2,-1j,1j,0,0])\n",
    "V = la.solve(A,b)\n",
    "print(\"V1=\",V[0])\n",
    "print(\"V2=\",V[1])\n",
    "print(\"V3=\",V[2])\n",
    "print(\"V4=\",V[3])\n",
    "print(\"V5=\",V[4])"
   ]
  }
 ],
 "metadata": {
  "kernelspec": {
   "display_name": "Python 3",
   "language": "python",
   "name": "python3"
  },
  "language_info": {
   "codemirror_mode": {
    "name": "ipython",
    "version": 3
   },
   "file_extension": ".py",
   "mimetype": "text/x-python",
   "name": "python",
   "nbconvert_exporter": "python",
   "pygments_lexer": "ipython3",
   "version": "3.8.6"
  }
 },
 "nbformat": 4,
 "nbformat_minor": 4
}
