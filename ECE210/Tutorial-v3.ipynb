{
 "cells": [
  {
   "cell_type": "markdown",
   "metadata": {},
   "source": [
    "In this notebook, you will learn how to use Python to solve system of equations.   \n",
    "First, let's take a look at the example from the book at page 45. \n",
    "<img src=\"circuit.png\" alt=\"drawing\" width=\"400\"/>\n",
    "The KVL equation for loop 1 (where $i_1$ has been declared) is. \n",
    "$$\n",
    "\\begin{align}\n",
    "14 = 2i_1+3i_x\n",
    "\\end{align}\n",
    "$$\n",
    "Likewise, the KVL equation for loop 2 (where $i_2$ has been declared) is \n",
    "$$\n",
    "\\begin{align}\n",
    "3i_x = 4i_2+1(i_2+2)\n",
    "\\end{align}\n",
    "$$\n",
    "There is current source in loop 3 (where $i_3$ has been declared), therefore   \n",
    "$$\n",
    "\\begin{align}\n",
    "i_3 = 2\n",
    "\\end{align}\n",
    "$$  \n",
    "Note that $i_x$ can be expressed as \n",
    "$$\n",
    "\\begin{align}\n",
    "i_x = i_2+i_3\n",
    "\\end{align}\n",
    "$$  \n",
    "Now let's arrange the terms in the equation to make it clear for the matrix form \n",
    "$$\n",
    "\\begin{align}\n",
    " 2i_1+0i_2+0i_3+3i_x=&14 \\\\\n",
    " 0i_1-5i_2+0i_3+3i_x=&2 \\\\ \n",
    " 0i_1+0i_2+1i_3+0i_x =&2 \\\\\n",
    " 0i_1-1i_2 -1i_3 +1i_x =&0 \\\\\n",
    "\\end{align}\n",
    "$$\n",
    "After the rearrangement, we are ready to form the matrix form\n",
    "$$\n",
    "\\begin{align}\n",
    "\\begin{bmatrix}\n",
    "2 & 0 &0& 3\\\\\n",
    "0 & -5 &0& 3 \\\\\n",
    "0 & 0 &1& 0 \\\\\n",
    "0 & -1 &-1& 1 \\\\\n",
    "\\end{bmatrix}\n",
    "\\begin{bmatrix}\n",
    "i_1 \\\\\n",
    "i_2 \\\\\n",
    "i_3 \\\\\n",
    "i_x\n",
    "\\end{bmatrix}\n",
    "=\n",
    "\\begin{bmatrix}\n",
    "14 \\\\\n",
    "2 \\\\\n",
    "2 \\\\\n",
    "0\n",
    "\\end{bmatrix}\n",
    "\\end{align}\n",
    "$$\n",
    "We can use numpy to solve the linear equations, check out the setup below"
   ]
  },
  {
   "cell_type": "code",
   "execution_count": 6,
   "metadata": {},
   "outputs": [],
   "source": [
    "import numpy as np   # import numpy library\n",
    "import numpy.linalg as la # import linalg library"
   ]
  },
  {
   "cell_type": "code",
   "execution_count": 7,
   "metadata": {},
   "outputs": [
    {
     "name": "stdout",
     "output_type": "stream",
     "text": [
      "[1. 2. 2. 4.]\n"
     ]
    }
   ],
   "source": [
    "A = np.array([[2,0,0,3],[0,-5,0,3],[0,0,1,0],[0,-1,-1,1]])  # fill in the coefficient matrix\n",
    "b = np.array([14,2,2,0])                    \n",
    "x = np.linalg.solve(A,b)                  # use numpy to solve the system of equations \n",
    "print(x)"
   ]
  },
  {
   "cell_type": "code",
   "execution_count": null,
   "metadata": {},
   "outputs": [],
   "source": []
  },
  {
   "cell_type": "markdown",
   "metadata": {},
   "source": [
    "The solution is interpreted as \n",
    "$$\n",
    "\\begin{align}\n",
    "\\begin{bmatrix}\n",
    "i_1 \\\\\n",
    "i_2 \\\\\n",
    "i_3 \\\\\n",
    "i_x\n",
    "\\end{bmatrix}\n",
    "=\n",
    "\\begin{bmatrix}\n",
    "1 \\\\\n",
    "2 \\\\\n",
    "2 \\\\\n",
    "4\n",
    "\\end{bmatrix}\n",
    "\\end{align}\n",
    "$$"
   ]
  },
  {
   "cell_type": "markdown",
   "metadata": {},
   "source": [
    "Now, you will use what we have learnt so far to solve a large system of equations.\n",
    "Consider the circuit below:\n",
    "<img src=\"circuit2.png\" alt=\"drawing\" width=\"400\"/>\n",
    "\n",
    "$V_1$ can be determined directly from the circuit, $$V_1=2\\text{V}.$$\n",
    "To obtain $V_2, V_3, V_4$ and $V_5$, we could set up a number of KVL equations.\n",
    "\n",
    "To get $V_2$,\n",
    "$$\n",
    "\\frac{V_2-V_1}{1}+\\frac{V_2}{1}+1=0\n",
    "$$\n",
    "To get $V_3$,\n",
    "$$\n",
    "\\frac{V_3}{2}+\\frac{V_3-V_4}{2}-1=0\n",
    "$$\n",
    "To get $V_4$,\n",
    "$$\n",
    "\\frac{V_4-V_3}{2}+\\frac{V_4}{1}+\\frac{V_4-V_5}{1}=0\n",
    "$$\n",
    "To get $V_5$,\n",
    "$$\n",
    "\\frac{V_5-V_1}{2}+\\frac{V_5-V_4}{1}+\\frac{V_5}{2}=0\n",
    "$$\n",
    "\n",
    "\n",
    "Rearranging the equations gives:\n",
    "$$\n",
    "\\begin{align}\n",
    "-1V_1+2V_2&=-1\\\\\n",
    "1V_3-\\frac{1}{2}V_4&=1\\\\\n",
    "-\\frac{1}{2}V_3+\\frac{5}{2}V_4-V_5&=0\\\\\n",
    "\\frac{1}{2}V_1+V_4-2V_5&=0\n",
    "\\end{align}\n",
    "$$\n",
    "Combining $V_1=2$, we have\n",
    "\n",
    "$$\n",
    "\\begin{equation}\n",
    "\\begin{bmatrix}\n",
    "1 & 0 & 0 & 0 &0\\\\\n",
    "-1 & 2 & 0 & 0 & 0\\\\\n",
    "0 & 0 & 1 & -\\frac{1}{2} & 0\\\\\n",
    "0 &0 &-\\frac{1}{2}&\\frac{5}{2}&-1 \\\\\n",
    "\\frac{1}{2} & 0 & 0 &1 &-2\n",
    "\\end{bmatrix}\n",
    "\\begin{bmatrix}\n",
    "V_1\\\\V_2\\\\V_3\\\\V_4\\\\V_5\n",
    "\\end{bmatrix}=\n",
    "\\begin{bmatrix}\n",
    "2\\\\-1\\\\1\\\\0\\\\0\n",
    "\\end{bmatrix}\n",
    "\\end{equation}\n",
    "$$\n",
    "\n",
    "\n",
    "\n",
    "\n",
    "To solve the equations, we could use np.linalg.solve function to get the voltages."
   ]
  },
  {
   "cell_type": "code",
   "execution_count": 11,
   "metadata": {},
   "outputs": [
    {
     "name": "stdout",
     "output_type": "stream",
     "text": [
      "V1=2.0V\n",
      "V2=0.5V\n",
      "V3=1.2857142857142858V\n",
      "V4=0.5714285714285715V\n",
      "V5=0.7857142857142858V\n"
     ]
    }
   ],
   "source": [
    "A = np.array([[1,0,0,0,0],[-1,2,0,0,0],[0,0,1,-1/2,0],[0,0,-1/2,5/2,-1],[1/2,0,0,1,-2]])\n",
    "b = np.array([2,-1,1,0,0])\n",
    "V = la.solve(A,b)\n",
    "print(\"V1={}V\".format(V[0]))\n",
    "print(\"V2={}V\".format(V[1]))\n",
    "print(\"V3={}V\".format(V[2]))\n",
    "print(\"V4={}V\".format(V[3]))\n",
    "print(\"V5={}V\".format(V[4]))"
   ]
  },
  {
   "cell_type": "code",
   "execution_count": null,
   "metadata": {},
   "outputs": [],
   "source": []
  }
 ],
 "metadata": {
  "kernelspec": {
   "display_name": "Python 3",
   "language": "python",
   "name": "python3"
  },
  "language_info": {
   "codemirror_mode": {
    "name": "ipython",
    "version": 3
   },
   "file_extension": ".py",
   "mimetype": "text/x-python",
   "name": "python",
   "nbconvert_exporter": "python",
   "pygments_lexer": "ipython3",
   "version": "3.8.10"
  }
 },
 "nbformat": 4,
 "nbformat_minor": 4
}
