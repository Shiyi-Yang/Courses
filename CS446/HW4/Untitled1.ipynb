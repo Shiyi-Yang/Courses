{
 "cells": [
  {
   "cell_type": "code",
   "execution_count": 305,
   "metadata": {},
   "outputs": [
    {
     "name": "stdout",
     "output_type": "stream",
     "text": [
      "Populating the interactive namespace from numpy and matplotlib\n"
     ]
    }
   ],
   "source": [
    "%pylab inline\n",
    "import torch\n",
    "import hw4_utils\n",
    "\n",
    "\n",
    "def k_means(X=None, init_c=None, n_iters=50):\n",
    "    \"\"\"K-Means.\n",
    "\n",
    "    Argument:\n",
    "        X: 2D data points, shape [2, N].\n",
    "        init_c: initial centroids, shape [2, 2]. Each column is a centroid.\n",
    "    \n",
    "    Return:\n",
    "        c: shape [2, 2]. Each column is a centroid.\n",
    "    \"\"\"\n",
    "\n",
    "    if X is None:\n",
    "        X, init_c = hw4_utils.load_data()\n",
    "        \n",
    "    c = init_c\n",
    "    cc = []\n",
    "    for counter in range(n_iters):       \n",
    "        \n",
    "        c_prev = c.clone()\n",
    "        n1 = 0\n",
    "        n2 = 0\n",
    "        temp = torch.zeros(init_c.shape)\n",
    "        \n",
    "        for i in range(X.shape[1]):\n",
    "           \n",
    "            if torch.norm((X[:,i] - c_prev[:,0])) < torch.norm((X[:,i] - c_prev[:,1])):\n",
    "                temp[:,0] += X[:,i]\n",
    "                n1 += 1\n",
    "            else:\n",
    "                temp[:,1] += X[:,i]\n",
    "                n2 += 1 \n",
    "        \n",
    "        if n1 ==0:\n",
    "            c[:,0] = c_prev[:,0]\n",
    "        if n2 ==0:\n",
    "            c[:,1] = c_prev[:,1]\n",
    "        if n1!=0:\n",
    "            c[:,0] = temp[:,0]/n1\n",
    "        if n2!=0:\n",
    "            c[:,1] = temp[:,1]/n2\n",
    "        \n",
    "        \n",
    "        print(counter,c)\n",
    "        \n",
    "        cc += [c.clone()]\n",
    "        \n",
    "        if (torch.norm(c-c_prev)==0):\n",
    "            break\n",
    "        \n",
    "    return c,cc\n"
   ]
  },
  {
   "cell_type": "code",
   "execution_count": 306,
   "metadata": {
    "scrolled": true
   },
   "outputs": [
    {
     "name": "stdout",
     "output_type": "stream",
     "text": [
      "0 tensor([[ 0.2911, -0.5545],\n",
      "        [ 0.1694, -0.0518]])\n",
      "1 tensor([[ 1.9163, -2.0952],\n",
      "        [-1.9143,  2.0540]])\n",
      "2 tensor([[ 1.9163, -2.0952],\n",
      "        [-1.9143,  2.0540]])\n"
     ]
    }
   ],
   "source": [
    "x,y = k_means()"
   ]
  },
  {
   "cell_type": "code",
   "execution_count": null,
   "metadata": {},
   "outputs": [],
   "source": []
  },
  {
   "cell_type": "code",
   "execution_count": 352,
   "metadata": {},
   "outputs": [],
   "source": [
    "X, init_c = hw4_utils.load_data()\n"
   ]
  },
  {
   "cell_type": "code",
   "execution_count": 353,
   "metadata": {},
   "outputs": [
    {
     "data": {
      "text/plain": [
       "array([[ 1.237202 ,  1.6248841,  1.6730095,  1.1952577,  2.432846 ,\n",
       "         2.122202 ,  1.6685443,  2.403654 ,  2.2195709,  2.5856004],\n",
       "       [-1.1162863, -2.0476809, -1.9694223, -2.3088722, -2.399035 ,\n",
       "        -2.0658116, -2.39922  , -1.8321347, -1.8623333, -1.1418487]],\n",
       "      dtype=float32)"
      ]
     },
     "execution_count": 353,
     "metadata": {},
     "output_type": "execute_result"
    }
   ],
   "source": [
    "x1"
   ]
  },
  {
   "cell_type": "code",
   "execution_count": 359,
   "metadata": {},
   "outputs": [
    {
     "data": {
      "text/plain": [
       "[None]"
      ]
     },
     "execution_count": 359,
     "metadata": {},
     "output_type": "execute_result"
    },
    {
     "data": {
      "image/png": "[encoded data removed]",
      "text/plain": [
       "<Figure size 720x360 with 3 Axes>"
      ]
     },
     "metadata": {
      "needs_background": "light"
     },
     "output_type": "display_data"
    }
   ],
   "source": [
    "figure(figsize=(10,5))\n",
    "subplot(1,3,1)\n",
    "x1,x2 = [],[]\n",
    "for i in range(X.shape[1]):\n",
    "\n",
    "    if torch.norm((X[:,i] - y[0][:,0])) < torch.norm((X[:,i] - y[0][:,1])):\n",
    "        x1+=[X[:,i].numpy()]\n",
    "    else:\n",
    "        x2 +=[X[:,i].numpy()]\n",
    "c1 = y[0][:,0].reshape(-1,1)\n",
    "c2 = y[0][:,1].reshape(-1,1)\n",
    "x1 = array(x1).T\n",
    "x2 = np.array(x2).T\n",
    "c = torch.cat((c1, c2), dim=1)\n",
    "\n",
    "plt.plot(x1[0, :], x1[1, :], \"ro\")\n",
    "plt.plot(x2[0, :], x2[1, :], \"bo\")\n",
    "l = plt.plot(c[0, :], c[1, :], \"kx\")\n",
    "plt.setp(l, markersize=10)\n",
    "#plt.show()\n",
    "\n",
    "subplot(1,3,2)\n",
    "x1,x2 = [],[]\n",
    "for i in range(X.shape[1]):\n",
    "\n",
    "    if torch.norm((X[:,i] - y[1][:,0])) < torch.norm((X[:,i] - y[1][:,1])):\n",
    "        x1+=[X[:,i].numpy()]\n",
    "    else:\n",
    "        x2 +=[X[:,i].numpy()]\n",
    "c1 = y[1][:,0].reshape(-1,1)\n",
    "c2 = y[1][:,1].reshape(-1,1)\n",
    "x1 = array(x1).T\n",
    "x2 = np.array(x2).T\n",
    "c = torch.cat((c1, c2), dim=1)\n",
    "\n",
    "plt.plot(x1[0, :], x1[1, :], \"ro\")\n",
    "plt.plot(x2[0, :], x2[1, :], \"bo\")\n",
    "l = plt.plot(c[0, :], c[1, :], \"kx\")\n",
    "plt.setp(l, markersize=10)\n",
    "#plt.show()\n",
    "\n",
    "subplot(1,3,3)\n",
    "x1,x2 = [],[]\n",
    "for i in range(X.shape[1]):\n",
    "\n",
    "    if torch.norm((X[:,i] - y[2][:,0])) < torch.norm((X[:,i] - y[2][:,1])):\n",
    "        x1+=[X[:,i].numpy()]\n",
    "    else:\n",
    "        x2 +=[X[:,i].numpy()]\n",
    "c1 = y[2][:,0].reshape(-1,1)\n",
    "c2 = y[2][:,1].reshape(-1,1)\n",
    "x1 = array(x1).T\n",
    "x2 = np.array(x2).T\n",
    "c = torch.cat((c1, c2), dim=1)\n",
    "\n",
    "plt.plot(x1[0, :], x1[1, :], \"ro\")\n",
    "plt.plot(x2[0, :], x2[1, :], \"bo\")\n",
    "l = plt.plot(c[0, :], c[1, :], \"kx\")\n",
    "plt.setp(l, markersize=10)\n",
    "#plt.show()\n"
   ]
  },
  {
   "cell_type": "code",
   "execution_count": 360,
   "metadata": {},
   "outputs": [],
   "source": [
    "x1,x2 = [],[]\n",
    "d = 0\n",
    "for i in range(X.shape[1]):\n",
    "\n",
    "    if torch.norm((X[:,i] - y[2][:,0])) < torch.norm((X[:,i] - y[2][:,1])):\n",
    "        d += torch.norm((X[:,i] - y[2][:,0]))**2\n",
    "    else:\n",
    "        d +=torch.norm((X[:,i] - y[2][:,1]))**2"
   ]
  },
  {
   "cell_type": "code",
   "execution_count": 363,
   "metadata": {},
   "outputs": [
    {
     "data": {
      "text/plain": [
       "tensor(4.5600)"
      ]
     },
     "execution_count": 363,
     "metadata": {},
     "output_type": "execute_result"
    }
   ],
   "source": [
    "d/2"
   ]
  },
  {
   "cell_type": "code",
   "execution_count": 362,
   "metadata": {},
   "outputs": [
    {
     "data": {
      "text/plain": [
       "tensor(3.0199)"
      ]
     },
     "execution_count": 362,
     "metadata": {},
     "output_type": "execute_result"
    }
   ],
   "source": [
    "sqrt(d)"
   ]
  },
  {
   "cell_type": "code",
   "execution_count": 365,
   "metadata": {},
   "outputs": [
    {
     "data": {
      "text/plain": [
       "tensor([[ 1.9163, -2.0952],\n",
       "        [-1.9143,  2.0540]])"
      ]
     },
     "execution_count": 365,
     "metadata": {},
     "output_type": "execute_result"
    }
   ],
   "source": [
    "y[2]"
   ]
  },
  {
   "cell_type": "code",
   "execution_count": 366,
   "metadata": {},
   "outputs": [
    {
     "data": {
      "text/plain": [
       "tensor([[ 0.2911, -0.5545],\n",
       "        [ 0.1694, -0.0518]])"
      ]
     },
     "execution_count": 366,
     "metadata": {},
     "output_type": "execute_result"
    }
   ],
   "source": [
    "y[0]"
   ]
  }
 ],
 "metadata": {
  "kernelspec": {
   "display_name": "Python 3 (ipykernel)",
   "language": "python",
   "name": "python3"
  },
  "language_info": {
   "codemirror_mode": {
    "name": "ipython",
    "version": 3
   },
   "file_extension": ".py",
   "mimetype": "text/x-python",
   "name": "python",
   "nbconvert_exporter": "python",
   "pygments_lexer": "ipython3",
   "version": "3.8.10"
  }
 },
 "nbformat": 4,
 "nbformat_minor": 4
}
