{
 "cells": [
  {
   "cell_type": "code",
   "execution_count": 231,
   "metadata": {},
   "outputs": [
    {
     "name": "stdout",
     "output_type": "stream",
     "text": [
      "Populating the interactive namespace from numpy and matplotlib\n"
     ]
    }
   ],
   "source": [
    "%pylab inline\n",
    "import torch\n",
    "import hw4_utils\n",
    "\n",
    "\n",
    "def k_means(X=None, init_c=None, n_iters=50):\n",
    "    \"\"\"K-Means.\n",
    "\n",
    "    Argument:\n",
    "        X: 2D data points, shape [2, N].\n",
    "        init_c: initial centroids, shape [2, 2]. Each column is a centroid.\n",
    "    \n",
    "    Return:\n",
    "        c: shape [2, 2]. Each column is a centroid.\n",
    "    \"\"\"\n",
    "\n",
    "    if X is None:\n",
    "        X, init_c = hw4_utils.load_data()\n",
    "        \n",
    "    c = init_c\n",
    "    \n",
    "    for counter in range(n_iters):\n",
    "        \n",
    "\n",
    "        c_prev = c.clone()\n",
    "        n1 = 0\n",
    "        n2 = 0\n",
    "        temp = torch.zeros(init_c.shape)\n",
    "        \n",
    "        for i in range(X.shape[1]):\n",
    "           \n",
    "            if torch.norm((X[:,i] - c_prev[:,0])) < torch.norm((X[:,i] - c_prev[:,1])):\n",
    "                temp[:,0] += X[:,i]\n",
    "                n1 += 1\n",
    "            else:\n",
    "                temp[:,1] += X[:,i]\n",
    "                n2 += 1 \n",
    "        \n",
    "        if n1 ==0:\n",
    "            c[:,0] = c_prev[:,0]\n",
    "        if n2 ==0:\n",
    "            c[:,1] = c_prev[:,1]\n",
    "        if n1!=0:\n",
    "            c[:,0] = temp[:,0]/n1\n",
    "        if n2!=0:\n",
    "            c[:,1] = temp[:,1]/n2\n",
    "        print(torch.norm(c-c_prev))\n",
    "        if (torch.norm(c-c_prev)==0):\n",
    "            break\n",
    "        \n",
    "    return c\n"
   ]
  },
  {
   "cell_type": "code",
   "execution_count": 232,
   "metadata": {
    "scrolled": true
   },
   "outputs": [
    {
     "name": "stdout",
     "output_type": "stream",
     "text": [
      "tensor(3.4866)\n",
      "tensor(3.7137)\n",
      "tensor(0.)\n"
     ]
    }
   ],
   "source": [
    "x = k_means()"
   ]
  },
  {
   "cell_type": "code",
   "execution_count": 208,
   "metadata": {},
   "outputs": [
    {
     "data": {
      "text/plain": [
       "tensor([[-2.0952,  1.9163],\n",
       "        [ 2.0540, -1.9143]])"
      ]
     },
     "execution_count": 208,
     "metadata": {},
     "output_type": "execute_result"
    }
   ],
   "source": [
    "x"
   ]
  },
  {
   "cell_type": "code",
   "execution_count": 212,
   "metadata": {},
   "outputs": [
    {
     "data": {
      "text/plain": [
       "tensor([[ 1.9163, -2.0952],\n",
       "        [-1.9143,  2.0540]])"
      ]
     },
     "execution_count": 212,
     "metadata": {},
     "output_type": "execute_result"
    }
   ],
   "source": [
    "x2"
   ]
  },
  {
   "cell_type": "code",
   "execution_count": 225,
   "metadata": {},
   "outputs": [],
   "source": [
    "import torch\n",
    "\n",
    "import hw4_utils\n",
    "\n",
    "\n",
    "\n",
    "\n",
    "\n",
    "def k_means(X=None, init_c=None, n_iters=50):\n",
    "\n",
    "    \"\"\"K-Means.\n",
    "\n",
    "\n",
    "\n",
    "    Argument:\n",
    "\n",
    "        X: 2D data points, shape [2, N].\n",
    "\n",
    "        init_c: initial centroids, shape [2, 2]. Each column is a centroid.\n",
    "\n",
    "    \n",
    "\n",
    "    Return:\n",
    "\n",
    "        c: shape [2, 2]. Each column is a centroid.\n",
    "\n",
    "    \"\"\"\n",
    "\n",
    "\n",
    "\n",
    "    if X is None:\n",
    "\n",
    "        X, init_c = hw4_utils.load_data()\n",
    "\n",
    "        \n",
    "\n",
    "    [d,N] = X.shape\n",
    "\n",
    "    c = init_c\n",
    "\n",
    "    \n",
    "\n",
    "    mu = []; mu.append(c)\n",
    "\n",
    "    r = []\n",
    "\n",
    "    \n",
    "\n",
    "    for i in range(n_iters):\n",
    "\n",
    "        print(i)\n",
    "\n",
    "        r_temp = torch.zeros([N,2])\n",
    "\n",
    "        for j in range(N):\n",
    "\n",
    "            if torch.norm(X[:,j]-c[:,0]) < torch.norm(X[:,j]-c[:,1]):\n",
    "\n",
    "                r_temp[j,0] = 1\n",
    "\n",
    "            else:\n",
    "\n",
    "                r_temp[j,1] = 1\n",
    "\n",
    "                \n",
    "\n",
    "        mu_temp = torch.zeros([2,2])\n",
    "\n",
    "        for k in range(2):\n",
    "\n",
    "            num = 0; den = 0\n",
    "\n",
    "            for j in range(N):\n",
    "\n",
    "                num += r_temp[j,k]*X[:,j]\n",
    "\n",
    "                den += r_temp[j,k]\n",
    "\n",
    "\n",
    "\n",
    "            mu_temp[:,k] = num/den\n",
    "\n",
    "        \n",
    "\n",
    "        if torch.norm(c-mu_temp) == 0:\n",
    "\n",
    "            c = mu_temp\n",
    "            \n",
    "            break\n",
    "\n",
    "        \n",
    "\n",
    "        c = mu_temp\n",
    "\n",
    "        mu.append(mu_temp)\n",
    "\n",
    "        r.append(r_temp)\n",
    "\n",
    "    return c\n",
    "\n"
   ]
  },
  {
   "cell_type": "code",
   "execution_count": 226,
   "metadata": {},
   "outputs": [
    {
     "name": "stdout",
     "output_type": "stream",
     "text": [
      "0\n",
      "tensor(3.4866)\n",
      "1\n",
      "tensor(3.7137)\n",
      "2\n",
      "tensor(0.)\n"
     ]
    },
    {
     "data": {
      "text/plain": [
       "tensor([[ 1.9163, -2.0952],\n",
       "        [-1.9143,  2.0540]])"
      ]
     },
     "execution_count": 226,
     "metadata": {},
     "output_type": "execute_result"
    }
   ],
   "source": [
    "x2 = k_means()\n",
    "x2"
   ]
  },
  {
   "cell_type": "code",
   "execution_count": null,
   "metadata": {},
   "outputs": [],
   "source": []
  }
 ],
 "metadata": {
  "kernelspec": {
   "display_name": "Python 3",
   "language": "python",
   "name": "python3"
  },
  "language_info": {
   "codemirror_mode": {
    "name": "ipython",
    "version": 3
   },
   "file_extension": ".py",
   "mimetype": "text/x-python",
   "name": "python",
   "nbconvert_exporter": "python",
   "pygments_lexer": "ipython3",
   "version": "3.8.5"
  }
 },
 "nbformat": 4,
 "nbformat_minor": 4
}
