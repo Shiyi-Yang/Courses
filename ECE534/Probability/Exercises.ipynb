{
 "cells": [
  {
   "cell_type": "code",
   "execution_count": 1,
   "metadata": {},
   "outputs": [
    {
     "name": "stdout",
     "output_type": "stream",
     "text": [
      "Populating the interactive namespace from numpy and matplotlib\n"
     ]
    }
   ],
   "source": [
    "%pylab inline"
   ]
  },
  {
   "cell_type": "markdown",
   "metadata": {},
   "source": [
    "#### 1. What is the probability of $b^2>4ac$, given a, b, c are three independent uniform r.v. from [0,1]"
   ]
  },
  {
   "cell_type": "markdown",
   "metadata": {},
   "source": [
    "#### Solution:"
   ]
  },
  {
   "cell_type": "markdown",
   "metadata": {},
   "source": [
    "Let $Z=4AC$, therefore, we have \n",
    "\n",
    "\\begin{align}\n",
    "P(Z\\leq z)&=P(4AC<z)=P(AC<\\frac{z}{4})\\\\\n",
    "&=\\iint f_{A,C}(a,c)dadc=\\iint f_A(a)f_C(c)dadc\\\\\n",
    "&= \\int_{\\frac{z}{4}}^1\\int_{\\frac{z}{4}}^{\\frac{z}{4c}}dadc + \\frac{z}{4}\\times 2-\\frac{z}{4}\\times \\frac{z}{4}\\\\\n",
    "&=\\int_{\\frac{z}{4}}^1\\left(\\frac{z}{4c}-\\frac{z}{4}\\right)dc+\\frac{z}{2}-\\frac{z^2}{16}\\\\\n",
    "&=\\frac{z}{4}-\\frac{z}{4}\\ln\\frac{z}{4},\\quad 0\\leq z\\leq 4\n",
    "\\end{align}\n",
    "\n",
    "\\begin{equation}\n",
    "f_Z(z) = -\\frac{1}{4}\\ln\\frac{z}{4}\n",
    "\\end{equation}\n",
    "\n",
    "Let $W = B^2$\n",
    "\\begin{align}\n",
    "P(W\\leq w)=P(B^2\\leq w)=P(0\\leq B\\leq\\sqrt{w})=\\sqrt{w}\n",
    "\\end{align}\n",
    "\n",
    "\\begin{equation}\n",
    "f_W(w)=\\frac{d}{dw}(\\sqrt{w})=\\frac{1}{2\\sqrt{w}},\\quad 0\\leq w\\leq 1\n",
    "\\end{equation}\n",
    "\n",
    "Therefore,\n",
    "\\begin{align}\n",
    "P(b^2>4ac)&=P(W>Z)\\\\\n",
    "&=\\iint f_{W,Z}(w,z)dwdz\\\\\n",
    "&=\\int_0^1\\int_z^1 f_W(w)f_Z(z)dwdz\\\\\n",
    "&=\\int_0^1\\left(-\\frac{1}{4}\\ln\\frac{z}{4}\\right)\\sqrt{w}\\bigg|_z^1dz\\\\\n",
    "&\\approx 0.254\n",
    "\\end{align}\n"
   ]
  },
  {
   "cell_type": "code",
   "execution_count": 11,
   "metadata": {},
   "outputs": [],
   "source": [
    "sample = uniform(0,1,(int(1e7),3))  "
   ]
  },
  {
   "cell_type": "code",
   "execution_count": 12,
   "metadata": {},
   "outputs": [
    {
     "name": "stdout",
     "output_type": "stream",
     "text": [
      "0.2545633\n"
     ]
    }
   ],
   "source": [
    "tmp = 0\n",
    "for i in range(sample.shape[0]):\n",
    "    if sample[i][1]**2>4*sample[i][0]*sample[i][-1]:\n",
    "        tmp += 1\n",
    "print(tmp/sample.shape[0])\n",
    "    "
   ]
  },
  {
   "cell_type": "markdown",
   "metadata": {},
   "source": [
    "#### 2. What is the expected number of independent uniform r.v. on [0,1], such that their sum is greater than 1? How about 2?"
   ]
  },
  {
   "cell_type": "markdown",
   "metadata": {},
   "source": [
    "#### Solution:"
   ]
  },
  {
   "cell_type": "markdown",
   "metadata": {},
   "source": [
    "Let N be the number of independent uniform r.v., and $X_1$ denote the value of the first r.v., then according to the law of total expectation, we have\n",
    "\\begin{equation}\n",
    "F(x) = E\\bigg[\\text{N},\\sum_i^N U_i>x\\bigg] = E[\\text{N}|U_1>x]\\times P(U_1 >x) + E[\\text{N}|U_1<x]\\times P(U_1<x)\n",
    "\\end{equation}\n",
    "Therefore,\n",
    "\\begin{align}\n",
    "F(x) &= 1\\int_x^1du+\\int_0^xF(x-u)+1du\\\\\n",
    "&=1-x+x+\\int_0^xF(x-u)du\\\\\n",
    "&=1+\\int_0^xF(t)dt\n",
    "\\end{align}\n",
    "Then,\n",
    "\\begin{align}\n",
    "\\frac{dF(x)}{dx}&=\\frac{d}{dx}\\int_0^xF(t)dt=F(x)\\\\\n",
    "F(x)&=Ae^{x}\n",
    "\\end{align}\n",
    "Since $F(0)=1$, we have $A=1$, and $F(x)=e^x,\\quad 0\\leq x\\leq 1$. Thus, the expected number of r.v. is $F(1) = e$.\n",
    "\n",
    "Similarly, if the sum is greater than 2, we have\n",
    "\\begin{align}\n",
    "F(x) &= E\\bigg[\\text{N},\\sum_i^N U_i>x\\bigg],\\quad  1\\leq x\\leq2\\\\\n",
    "&=\\int E[N|U_1]f_{U_1}(u)du\n",
    "\\end{align}\n",
    "Then,\n",
    "\\begin{align}\n",
    "F(x)&=\\int_0^1 1+F(x-u)du=1+\\int_{x-1}^xF(t)dt\\\\\n",
    "\\frac{d}{dx}F(x)&=F(x) - F(x-1)=F(x)-e^{(x-1)}\n",
    "\\end{align}\n",
    "We have obtained the differential equation\n",
    "\\begin{align}\n",
    "F'(x)-F(x)&=-e^{(x-1)}\\\\\n",
    "F(x)&=Axe^x+Be^x\n",
    "\\end{align}\n",
    "To solve the particular solution,\n",
    "\\begin{align}\n",
    "Axe^x+Ae^x&=-e^{x-1}\\\\\n",
    "A&=-\\frac{1}{e}\n",
    "\\end{align}\n",
    "Since $F(1)=e$, we have $-1+Be=e\\Rightarrow B=\\frac{e+1}{e}$, the solution of $F(x)$ is given by\n",
    "\\begin{equation}\n",
    "F(x) = e^{x-1}(e+1-x)\n",
    "\\end{equation}\n",
    "Therefore,\n",
    "$F(2)=e^2-e$, so the expect number of r.v. such that their sum is greater than 2 is $e^2-e$."
   ]
  },
  {
   "cell_type": "code",
   "execution_count": 23,
   "metadata": {},
   "outputs": [],
   "source": [
    "arr = []\n",
    "\n",
    "for i in range(int(2e6)):\n",
    "    tmp = 0\n",
    "    counter = 0\n",
    "    while (tmp < 2):\n",
    "        tmp += uniform(0,1)\n",
    "        counter += 1\n",
    "    arr += [counter]"
   ]
  },
  {
   "cell_type": "code",
   "execution_count": 24,
   "metadata": {},
   "outputs": [
    {
     "data": {
      "text/plain": [
       "4.671329"
      ]
     },
     "execution_count": 24,
     "metadata": {},
     "output_type": "execute_result"
    }
   ],
   "source": [
    "mean(arr)"
   ]
  },
  {
   "cell_type": "markdown",
   "metadata": {},
   "source": [
    "#### Discussion: what is a generic solution to the expected number of i.i.d uniform r.v. on [a,b] s.t. their sum is greater than c? $(c\\geq b)$"
   ]
  },
  {
   "cell_type": "markdown",
   "metadata": {},
   "source": [
    "The first step is to find the base case, where the sum is greater than b, i.e. $\\sum_i^N U_i > b$, to do this, we have the equation:\n",
    "\\begin{align}\n",
    "F(x)&=E[N|X_1<x]P(X_1<x)+E[N|X_1>x]P(X_1>x)\\\\\n",
    "&=\\int_a^x\\big[1+F(x-u)\\big]\\frac{1}{b-a}du+\\int_x^b\\frac{1}{b-a}du\\\\\n",
    "&=1+\\frac{1}{b-a}\\int_0^{x-a}F(t)dt\n",
    "\\end{align}\n",
    "Taking the derivative we have\n",
    "\\begin{align}\n",
    "\\frac{d}{dx}F(x)=\\frac{1}{b-a}F(x-a)\n",
    "\\end{align}\n",
    "Assume $a=0$, then we have\n",
    "\\begin{equation}\n",
    "F'(x)=\\frac{1}{b}F(x),\\quad 0\\leq x\\leq b\n",
    "\\end{equation}\n",
    "We could repeat the above calculation to find the $F(x)$ for $nb\\leq x\\leq (n+1)b, \\forall n\\in Z$, i.e.\n",
    "\\begin{align}\n",
    "F'(x)=\\frac{1}{b}F(x)-F(x-b),\\quad n=1, 2, 3, \\cdots\n",
    "\\end{align}\n",
    "\n",
    "\n",
    "When $a\\neq 0$, to solve the differential equation, we use laplace transform,\n",
    "\\begin{align}\n",
    "sF(s)-F(0^-)&=\\frac{1}{b-a}F(s)e^{-as}\\\\\n",
    "F(s)&=\\frac{f(0^-)}{s-\\frac{1}{b-a}e^{-as}}\n",
    "\\end{align}"
   ]
  },
  {
   "cell_type": "markdown",
   "metadata": {},
   "source": [
    "#### 3. 重复抛一个骰子，六个面都看到所需要的平均次数是多少"
   ]
  },
  {
   "cell_type": "markdown",
   "metadata": {},
   "source": [
    "#### Solution"
   ]
  },
  {
   "cell_type": "markdown",
   "metadata": {},
   "source": [
    "Everytime we throw a dice, the probability of seeing a new face follows a geometry distribution. The first time we throw, the probability that we see a new face is $p = 1$, so the expected number of toss is $\\frac{1}{p}=1$. The second time we toss the dice, the probability of seeing a new face is $p=\\frac{5}{6}$, so the expected number of toss is $\\frac{6}{5}$, we keep tossing the dice untill we see all the numbers, and the total expectation is \n",
    "\\begin{equation}\n",
    "E[X] = \\sum_{i=1}^6\\frac{6}{i}\\approx 14.7\n",
    "\\end{equation}\n",
    "\n",
    "We can also use Markov-chain to solve the problem. There are seven states in total which are labeled $X_0, X_1,\\cdots, X_6 $, where $X_i$ represents the number of faces shown. Solving the expectationn recurrently, we also obtain $t_0\\approx14.7$."
   ]
  },
  {
   "cell_type": "code",
   "execution_count": null,
   "metadata": {},
   "outputs": [],
   "source": []
  }
 ],
 "metadata": {
  "kernelspec": {
   "display_name": "py3.8",
   "language": "python",
   "name": "py3.8"
  },
  "language_info": {
   "codemirror_mode": {
    "name": "ipython",
    "version": 3
   },
   "file_extension": ".py",
   "mimetype": "text/x-python",
   "name": "python",
   "nbconvert_exporter": "python",
   "pygments_lexer": "ipython3",
   "version": "3.8.10"
  }
 },
 "nbformat": 4,
 "nbformat_minor": 4
}
