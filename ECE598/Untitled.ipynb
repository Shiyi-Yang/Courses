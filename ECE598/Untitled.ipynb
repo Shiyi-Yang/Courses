{
 "cells": [
  {
   "cell_type": "code",
   "execution_count": 1,
   "metadata": {},
   "outputs": [
    {
     "name": "stdout",
     "output_type": "stream",
     "text": [
      "Populating the interactive namespace from numpy and matplotlib\n"
     ]
    }
   ],
   "source": [
    "%pylab inline"
   ]
  },
  {
   "cell_type": "code",
   "execution_count": 7,
   "metadata": {},
   "outputs": [],
   "source": [
    "from scipy.special import dawsn as ds"
   ]
  },
  {
   "cell_type": "code",
   "execution_count": 2,
   "metadata": {},
   "outputs": [],
   "source": [
    "from scipy import constants as const"
   ]
  },
  {
   "cell_type": "code",
   "execution_count": 5,
   "metadata": {},
   "outputs": [
    {
     "data": {
      "text/plain": [
       "(1.6021766208e-19, 9.10938356e-31, 8.854187817620389e-12)"
      ]
     },
     "execution_count": 5,
     "metadata": {},
     "output_type": "execute_result"
    }
   ],
   "source": [
    "const.e,const.m_e,const.epsilon_0"
   ]
  },
  {
   "cell_type": "code",
   "execution_count": 6,
   "metadata": {},
   "outputs": [
    {
     "data": {
      "text/plain": [
       "175882002360.2124"
      ]
     },
     "execution_count": 6,
     "metadata": {},
     "output_type": "execute_result"
    }
   ],
   "source": [
    "const.e/const.m_e"
   ]
  },
  {
   "cell_type": "code",
   "execution_count": 11,
   "metadata": {},
   "outputs": [
    {
     "data": {
      "text/plain": [
       "(0.9903730923223615-0.6388730515644433j)"
      ]
     },
     "execution_count": 11,
     "metadata": {},
     "output_type": "execute_result"
    }
   ],
   "source": [
    "ds(1+1j)"
   ]
  },
  {
   "cell_type": "code",
   "execution_count": 14,
   "metadata": {},
   "outputs": [],
   "source": [
    "C = 1+1j"
   ]
  },
  {
   "cell_type": "code",
   "execution_count": 30,
   "metadata": {},
   "outputs": [],
   "source": [
    "kl = 0.4"
   ]
  },
  {
   "cell_type": "code",
   "execution_count": 31,
   "metadata": {},
   "outputs": [
    {
     "data": {
      "text/plain": [
       "(1.2165525060596438, -0.0959926519824984)"
      ]
     },
     "execution_count": 31,
     "metadata": {},
     "output_type": "execute_result"
    }
   ],
   "source": [
    "sqrt(1+3*kl**2),-(pi/8)**(1/2.)*1/kl**3*e**(-1/2/kl**2-3./2)"
   ]
  },
  {
   "cell_type": "code",
   "execution_count": 33,
   "metadata": {},
   "outputs": [
    {
     "data": {
      "text/plain": [
       "(1.014889156509222, -0.09599265198249848)"
      ]
     },
     "execution_count": 33,
     "metadata": {},
     "output_type": "execute_result"
    }
   ],
   "source": [
    "sqrt(1+3*0.1**2),-(pi/8)**(1/2.)*1/kl**3*e**(-(1+3*kl**2)/2/kl**2)"
   ]
  },
  {
   "cell_type": "code",
   "execution_count": 35,
   "metadata": {},
   "outputs": [
    {
     "data": {
      "text/plain": [
       "3182.607349261724"
      ]
     },
     "execution_count": 35,
     "metadata": {},
     "output_type": "execute_result"
    }
   ],
   "source": [
    "(const.e**2/const.m_e/const.epsilon_0)"
   ]
  },
  {
   "cell_type": "code",
   "execution_count": 41,
   "metadata": {},
   "outputs": [],
   "source": [
    "wp = 1e4\n",
    "\n",
    "ne = wp**2*const.m_e*const.epsilon_0/const.e**2"
   ]
  },
  {
   "cell_type": "code",
   "execution_count": 47,
   "metadata": {},
   "outputs": [],
   "source": [
    "lamD = 1\n",
    "kT = lamD**2*ne*const.e**2/const.epsilon_0"
   ]
  },
  {
   "cell_type": "code",
   "execution_count": 48,
   "metadata": {},
   "outputs": [],
   "source": [
    "wr = 7.17853*sqrt(2*kT/const.m_e)*0.1"
   ]
  },
  {
   "cell_type": "code",
   "execution_count": 218,
   "metadata": {},
   "outputs": [],
   "source": [
    "wp = 1e6"
   ]
  },
  {
   "cell_type": "code",
   "execution_count": 151,
   "metadata": {},
   "outputs": [],
   "source": [
    "def gen_w(x):\n",
    "    wi = -(pi/8)**(1./2)*1./x**3*e**(-1/2/x**2-3/2.)\n",
    "    wr = sqrt(1+3*x**2)\n",
    "    return wr,wi"
   ]
  },
  {
   "cell_type": "code",
   "execution_count": 243,
   "metadata": {},
   "outputs": [],
   "source": [
    "k = 80\n",
    "lamD = 0.01"
   ]
  },
  {
   "cell_type": "code",
   "execution_count": 244,
   "metadata": {},
   "outputs": [
    {
     "data": {
      "text/plain": [
       "(1.7088007490635064, -0.1250333003982844)"
      ]
     },
     "execution_count": 244,
     "metadata": {},
     "output_type": "execute_result"
    }
   ],
   "source": [
    "a,b = gen_w(k*lamD)\n",
    "a,b"
   ]
  },
  {
   "cell_type": "code",
   "execution_count": 245,
   "metadata": {},
   "outputs": [],
   "source": [
    "wp = 1e6\n",
    "ne = wp**2*const.m_e*const.epsilon_0/const.e**2"
   ]
  },
  {
   "cell_type": "code",
   "execution_count": 248,
   "metadata": {},
   "outputs": [],
   "source": [
    "kT = lamD**2*ne*const.e**2/const.epsilon_0\n",
    "wr = 1.5909*sqrt(2*kT/const.m_e)*k/wp\n",
    "wi = -0.472482*sqrt(2*kT/const.m_e)*k/wp"
   ]
  },
  {
   "cell_type": "code",
   "execution_count": 249,
   "metadata": {},
   "outputs": [
    {
     "data": {
      "text/plain": [
       "(1.7998978851034853, 1.7088007490635064, 0.05331056654200545)"
      ]
     },
     "execution_count": 249,
     "metadata": {},
     "output_type": "execute_result"
    }
   ],
   "source": [
    "wr,a,abs((wr-a)/(a))"
   ]
  },
  {
   "cell_type": "code",
   "execution_count": 250,
   "metadata": {},
   "outputs": [
    {
     "data": {
      "text/plain": [
       "(-0.5345523619017318, -0.1250333003982844, 3.2752799470137517)"
      ]
     },
     "execution_count": 250,
     "metadata": {},
     "output_type": "execute_result"
    }
   ],
   "source": [
    "wi,b,abs((wi-b)/(b))"
   ]
  },
  {
   "cell_type": "code",
   "execution_count": 295,
   "metadata": {},
   "outputs": [
    {
     "data": {
      "text/plain": [
       "array([-10. ,  -9.9,  -9.8,  -9.7,  -9.6,  -9.5,  -9.4,  -9.3,  -9.2,\n",
       "        -9.1,  -9. ,  -8.9,  -8.8,  -8.7,  -8.6,  -8.5,  -8.4,  -8.3,\n",
       "        -8.2,  -8.1,  -8. ,  -7.9,  -7.8,  -7.7,  -7.6,  -7.5,  -7.4,\n",
       "        -7.3,  -7.2,  -7.1,  -7. ,  -6.9,  -6.8,  -6.7,  -6.6,  -6.5,\n",
       "        -6.4,  -6.3,  -6.2,  -6.1,  -6. ,  -5.9,  -5.8,  -5.7,  -5.6,\n",
       "        -5.5,  -5.4,  -5.3,  -5.2,  -5.1,  -5. ,  -4.9,  -4.8,  -4.7,\n",
       "        -4.6,  -4.5,  -4.4,  -4.3,  -4.2,  -4.1,  -4. ,  -3.9,  -3.8,\n",
       "        -3.7,  -3.6,  -3.5,  -3.4,  -3.3,  -3.2,  -3.1,  -3. ,  -2.9,\n",
       "        -2.8,  -2.7,  -2.6,  -2.5,  -2.4,  -2.3,  -2.2,  -2.1,  -2. ,\n",
       "        -1.9,  -1.8,  -1.7,  -1.6,  -1.5,  -1.4,  -1.3,  -1.2,  -1.1,\n",
       "        -1. ,  -0.9,  -0.8,  -0.7,  -0.6,  -0.5,  -0.4,  -0.3,  -0.2,\n",
       "        -0.1,   0. ,   0.1,   0.2,   0.3,   0.4,   0.5,   0.6,   0.7,\n",
       "         0.8,   0.9,   1. ,   1.1,   1.2,   1.3,   1.4,   1.5,   1.6,\n",
       "         1.7,   1.8,   1.9,   2. ,   2.1,   2.2,   2.3,   2.4,   2.5,\n",
       "         2.6,   2.7,   2.8,   2.9,   3. ,   3.1,   3.2,   3.3,   3.4,\n",
       "         3.5,   3.6,   3.7,   3.8,   3.9,   4. ,   4.1,   4.2,   4.3,\n",
       "         4.4,   4.5,   4.6,   4.7,   4.8,   4.9,   5. ,   5.1,   5.2,\n",
       "         5.3,   5.4,   5.5,   5.6,   5.7,   5.8,   5.9,   6. ,   6.1,\n",
       "         6.2,   6.3,   6.4,   6.5,   6.6,   6.7,   6.8,   6.9,   7. ,\n",
       "         7.1,   7.2,   7.3,   7.4,   7.5,   7.6,   7.7,   7.8,   7.9,\n",
       "         8. ,   8.1,   8.2,   8.3,   8.4,   8.5,   8.6,   8.7,   8.8,\n",
       "         8.9,   9. ,   9.1,   9.2,   9.3,   9.4,   9.5,   9.6,   9.7,\n",
       "         9.8,   9.9])"
      ]
     },
     "execution_count": 295,
     "metadata": {},
     "output_type": "execute_result"
    }
   ],
   "source": [
    "v"
   ]
  },
  {
   "cell_type": "code",
   "execution_count": 326,
   "metadata": {},
   "outputs": [],
   "source": [
    "dv = 0.1\n",
    "N = 10000\n",
    "v = np.linspace(-10,10,200,endpoint = False)\n",
    "#v = -8 + np.arange(160)*dv\n",
    "t = np.linspace(0,100,N,endpoint=False)\n",
    "f1 = 0.1*e**(-(v-1)**2/2)\n",
    "df0 = -v * 1/sqrt(2*pi)*e**(-v**2/2)\n",
    "E = np.zeros(N,np.complex64)\n",
    "#E[0] = 0.01"
   ]
  },
  {
   "cell_type": "code",
   "execution_count": 329,
   "metadata": {},
   "outputs": [],
   "source": [
    "k = 0.4\n",
    "for i in range(1,(N)):\n",
    "    f1 = f1 + (t[1]-t[0]) * (-1j * k * v * f1 + E[i-1] * df0)\n",
    "    E[i] = 1j/k*sum(f1) * dv\n",
    "    #print(i)"
   ]
  },
  {
   "cell_type": "code",
   "execution_count": 330,
   "metadata": {},
   "outputs": [
    {
     "data": {
      "text/plain": [
       "Text(0, 0.5, 'Re{E}')"
      ]
     },
     "execution_count": 330,
     "metadata": {},
     "output_type": "execute_result"
    },
    {
     "data": {
      "image/png": "[encoded data removed]",
      "text/plain": [
       "<Figure size 432x288 with 1 Axes>"
      ]
     },
     "metadata": {
      "needs_background": "light"
     },
     "output_type": "display_data"
    }
   ],
   "source": [
    "plot(t,real(E))\n",
    "xlabel('time in [s]')\n",
    "ylabel('Re{E}')"
   ]
  },
  {
   "cell_type": "code",
   "execution_count": null,
   "metadata": {},
   "outputs": [],
   "source": []
  }
 ],
 "metadata": {
  "kernelspec": {
   "display_name": "Python 3",
   "language": "python",
   "name": "python3"
  },
  "language_info": {
   "codemirror_mode": {
    "name": "ipython",
    "version": 3
   },
   "file_extension": ".py",
   "mimetype": "text/x-python",
   "name": "python",
   "nbconvert_exporter": "python",
   "pygments_lexer": "ipython3",
   "version": "3.5.2"
  }
 },
 "nbformat": 4,
 "nbformat_minor": 2
}
